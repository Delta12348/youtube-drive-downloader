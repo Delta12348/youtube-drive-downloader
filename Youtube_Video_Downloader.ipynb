{
  "nbformat": 4,
  "nbformat_minor": 0,
  "metadata": {
    "colab": {
      "name": "Youtube Video Downloader",
      "private_outputs": true,
      "provenance": [],
      "authorship_tag": "ABX9TyOfrrbsZD3hPNh1/b4DiVxh",
      "include_colab_link": true
    },
    "kernelspec": {
      "name": "python3",
      "display_name": "Python 3"
    }
  },
  "cells": [
    {
      "cell_type": "markdown",
      "metadata": {
        "id": "view-in-github",
        "colab_type": "text"
      },
      "source": [
        "<a href=\"https://colab.research.google.com/github/Delta12348/youtube-drive-downloader/blob/main/Youtube_Video_Downloader.ipynb\" target=\"_parent\"><img src=\"https://colab.research.google.com/assets/colab-badge.svg\" alt=\"Open In Colab\"/></a>"
      ]
    },
    {
      "cell_type": "markdown",
      "metadata": {
        "id": "EcRrrtV6SzlK"
      },
      "source": [
        "Hello, and welcome to the one the many youtube video downloaders. I know there are many already, but this one lets you save the video into Google Drive.\n",
        "Do not worry, Google has a end to end encryption and thus do not have access to your data. The project is Open Source and free. GitHub project can be found here   [YouTube Video Downloader for Google Drive](https://github.com/Delta12348/youtube-drive-downloader/blob/main/README.md).\n",
        "\n",
        "---\n",
        "To download a video just: \n",
        "\n",
        "\n",
        "1.   Paste a link to videoURL\n",
        "2.   Press the run button \n",
        "\n"
      ]
    },
    {
      "cell_type": "code",
      "metadata": {
        "id": "p4Q-EHGflzkH",
        "cellView": "form"
      },
      "source": [
        "#@title YouTube Video Downloader\n",
        "!pip install pytube\n",
        "from pytube import YouTube\n",
        "from pydrive.auth import GoogleAuth\n",
        "from pydrive.drive import GoogleDrive\n",
        "from google.colab import auth\n",
        "from oauth2client.client import GoogleCredentials\n",
        "auth.authenticate_user()\n",
        "gauth = GoogleAuth()\n",
        "gauth.credentials = GoogleCredentials.get_application_default()\n",
        "drive = GoogleDrive(gauth)\n",
        "while True:\n",
        "  videoURL = \"https://www.youtube.com/watch?v=I1hLZ2OchZ8\" #@param {type:\"string\"}\n",
        "  try:\n",
        "    yt = YouTube(videoURL)\n",
        "    videoName = yt.title\n",
        "    videoName += \".mp4\"\n",
        "    print(videoName)\n",
        "    ytStream = yt.streams.first()\n",
        "    ytStream.download()\n",
        "    print(\"The video has downloaded\")\n",
        "    uploaded = drive.CreateFile({'title': videoName})\n",
        "    uploaded.SetContentFile(videoName)\n",
        "    uploaded.Upload()\n",
        "    break\n",
        "  except:\n",
        "    print(\"No video could be found, try again\")\n",
        "    break"
      ],
      "execution_count": null,
      "outputs": []
    }
  ]
}